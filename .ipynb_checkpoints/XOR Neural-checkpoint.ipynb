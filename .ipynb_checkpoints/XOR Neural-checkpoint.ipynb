{
 "cells": [
  {
   "cell_type": "code",
   "execution_count": 1,
   "metadata": {},
   "outputs": [],
   "source": [
    "import csv\n",
    "import numpy as np\n",
    "import random\n",
    "import math"
   ]
  },
  {
   "cell_type": "code",
   "execution_count": 6,
   "metadata": {},
   "outputs": [],
   "source": [
    "INPUT_LAYER = 2    #NO. of nodes in input layer\n",
    "HIDDEN_LAYER = 2   #NO. of nodes in hidden layer\n",
    "OUTPUT_LAYER = 1   #NO. of nodes in otput layer\n",
    "num_labels = 1\n",
    "learning_rate = 0.4"
   ]
  },
  {
   "cell_type": "code",
   "execution_count": 10,
   "metadata": {},
   "outputs": [],
   "source": [
    "def sigmoidGradient(z):\n",
    "    t = 1 - sigmoid(z)\n",
    "    sg = np.multiply(sigmoid(z),t)                 #Elementwise multiplication of matrices\n",
    "    return sg\n",
    "\n",
    "def sigmoid(z):\n",
    "    g = 1.0  / (1.0 + np.exp(-1.0 * z))\n",
    "    return g\n",
    "\n",
    "def costfunction(X,Y,h,Theta_1,Theta_2):\n",
    "    m = np.shape(X)\n",
    "    i = [1] - h\n",
    "    j = []\n",
    "    for a in range(len(Y)):\n",
    "        j.append(1.0 - Y[a])\n",
    "    J = 0\n",
    "    J = (1/4)*(-1.0*np.matmul(np.log(h),Y) - np.matmul(np.log(i),j))   #Without regularisation\n",
    "    return J\n",
    "\n",
    "def Randomise():\n",
    "    EPSILON_INIT = 0.12\n",
    "    Theta_1 = np.random.rand(HIDDEN_LAYER,INPUT_LAYER+1)*(2*EPSILON_INIT)-(EPSILON_INIT)     # Random Weights for level 1\n",
    "    Theta_2 = np.random.rand(OUTPUT_LAYER,HIDDEN_LAYER+1)*(2*EPSILON_INIT)-(EPSILON_INIT)    # Random Weights for level 2\n",
    "    return Theta_1,Theta_2"
   ]
  },
  {
   "cell_type": "code",
   "execution_count": 11,
   "metadata": {},
   "outputs": [],
   "source": [
    "def Neural(X,Theta_1,Theta_2,Y):\n",
    "    \"\"\"forward propogation\"\"\"\n",
    "    Theta1_grad = np.zeros(np.shape(Theta_1))\n",
    "    Theta2_grad = np.zeros(np.shape(Theta_2))\n",
    "    m = np.shape(X)\n",
    "    a1 = []\n",
    "    X = np.insert(X,0,1,axis=1)\n",
    "    z2 = np.matmul(Theta_1,np.transpose(X))\n",
    "    a2 = sigmoid(z2)\n",
    "    a2 = np.transpose(a2)\n",
    "    a2 = np.insert(a2,0,1,axis=1)\n",
    "    z3 = np.matmul(Theta_2,np.transpose(a2))\n",
    "    h = sigmoid(z3)\n",
    "    J = costfunction(X,Y,h,Theta_1,Theta_2)\n",
    "    temp = 0.0\n",
    "    flag = 0\n",
    "    while(J - temp >0.0001):\n",
    "        for a in range(4):\n",
    "            temp = J\n",
    "            a1 = X[a]                                        #Forward Propogation\n",
    "            z2 = np.matmul(Theta_1,np.transpose(a1))\n",
    "            a2 = np.transpose(sigmoid(z2))\n",
    "            a2 = np.insert(a2,0,1)\n",
    "            z3 = np.matmul(Theta_2,a2)\n",
    "            a3 = sigmoid(z3)\n",
    "            z2 = np.transpose(z2)\n",
    "            z2 = np.insert(z2,0,1)\n",
    "            delta_3 = a3 - Y[a]                              #Backward Propogation\n",
    "            p = np.matmul(np.transpose(Theta_2),delta_3)\n",
    "            q = sigmoidGradient(z2)\n",
    "            delta_2 = np.multiply(p,q)                       #Elementwise multiplication of matrices\n",
    "            delta_2 = [delta_2[1],delta_2[2]]\n",
    "            delta_3 = [[delta_3[0]]]\n",
    "            a2 = [[a2[0]], [a2[1]], [a2[2]]]                 #Converting list to matrix\n",
    "            Theta2_grad = Theta2_grad + np.sum(np.matmul(delta_3,np.transpose(a2)))\n",
    "            a1 = [[a1[0]],[a1[1]],[a1[2]]]\n",
    "            delta_2 = [[delta_2[0]],[delta_2[1]]]\n",
    "            Theta1_grad = Theta1_grad + np.matmul(delta_2,np.transpose(a1))\n",
    "            Theta_1 = Theta_1 - (learning_rate/4) * np.matmul(delta_2,np.transpose(a1))\n",
    "            Theta_2 = Theta_2 - (learning_rate/4) * np.matmul(delta_3,np.transpose(a2))\n",
    "            J = costfunction(X,Y,h,Theta_1,Theta_2)\n",
    "    return Theta_1,Theta_2"
   ]
  },
  {
   "cell_type": "code",
   "execution_count": 12,
   "metadata": {},
   "outputs": [
    {
     "name": "stdout",
     "output_type": "stream",
     "text": [
      "[[ 0.04731904  0.10685144 -0.05884221]\n",
      " [-0.00494939 -0.01842313  0.06323817]]\n",
      "[[-0.01858387  0.01472484  0.05334375]]\n",
      "[[ 0.04663198  0.10649223 -0.0595229 ]\n",
      " [-0.00561671 -0.01878138  0.06256508]]\n",
      "[[-0.02025929  0.01379777  0.05247643]]\n"
     ]
    }
   ],
   "source": [
    "X = []\n",
    "Y = []\n",
    "with open(\"XOR.csv\",\"r\") as csvfile:\n",
    "    lines = csv.reader(csvfile)\n",
    "    dataset = list(lines)\n",
    "    for i in range(len(dataset)):\n",
    "        X.append([int(dataset[i][0]),int(dataset[i][1])])\n",
    "        Y.append(int(dataset[i][2]))\n",
    "Theta_1,Theta_2 = Randomise()\n",
    "print(Theta_1)\n",
    "print(Theta_2)\n",
    "Theta_1,Theta_2 = Neural(X,Theta_1,Theta_2,Y)\n",
    "print(Theta_1)\n",
    "print(Theta_2)"
   ]
  },
  {
   "cell_type": "code",
   "execution_count": null,
   "metadata": {},
   "outputs": [],
   "source": []
  }
 ],
 "metadata": {
  "kernelspec": {
   "display_name": "Python 3",
   "language": "python",
   "name": "python3"
  },
  "language_info": {
   "codemirror_mode": {
    "name": "ipython",
    "version": 3
   },
   "file_extension": ".py",
   "mimetype": "text/x-python",
   "name": "python",
   "nbconvert_exporter": "python",
   "pygments_lexer": "ipython3",
   "version": "3.6.4"
  }
 },
 "nbformat": 4,
 "nbformat_minor": 2
}
