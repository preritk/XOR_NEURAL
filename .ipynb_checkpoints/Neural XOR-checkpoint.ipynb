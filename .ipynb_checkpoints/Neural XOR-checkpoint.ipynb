{
 "cells": [
  {
   "cell_type": "code",
   "execution_count": 1,
   "metadata": {},
   "outputs": [],
   "source": [
    "import csv\n",
    "import numpy as np\n",
    "import random\n",
    "import math\n",
    "import matplotlib.pyplot as plt\n",
    "from pylab import scatter, show, legend, xlabel, ylabel\n",
    "\n",
    "INPUT_LAYER = 2    #NO. of nodes in input layer\n",
    "HIDDEN_LAYER = 2   #NO. of nodes in hidden layer\n",
    "OUTPUT_LAYER = 1   #NO. of nodes in otput layer\n",
    "learning_rate = 0.1 #Learning rate\n",
    "lamda = 0.0        #Regularisation not taken in consideration\n",
    "epochs = 1500     #Number of iterations\n",
    "def displayData(X,Y):             #Displays data\n",
    "    for i in range(len(X)):\n",
    "        if(Y[i]==1):           # 1 is marked by o\n",
    "            plt.scatter(X[i][0], X[i][1],marker = 'o',color = 'b',s = 30)\n",
    "        else:                  # 0 is marked by x\n",
    "            plt.scatter(X[i][0],X[i][1],marker = 'x' , color = 'r',s = 30)\n",
    "    plt.xlabel('X1')\n",
    "    plt.ylabel('X2')\n",
    "    plt.legend(['1','0'])\n",
    "    plt.show()\n",
    "    return\n",
    "\n",
    "def Randomise():\n",
    "    #Here the value of each element of Theta_1,Theta_2 lies between [-Epsilon_init,+Epsilon_init]\n",
    "    EPSILON_INIT = 0.12\n",
    "    Theta_1 = np.random.rand(HIDDEN_LAYER,INPUT_LAYER+1)*(2*EPSILON_INIT)-(EPSILON_INIT)     # Random Weights for level 1\n",
    "    Theta_2 = np.random.rand(OUTPUT_LAYER,HIDDEN_LAYER+1)*(2*EPSILON_INIT)-(EPSILON_INIT)    # Random Weights for level 2\n",
    "    return Theta_1,Theta_2\n",
    "\n",
    "def sigmoid(z):\n",
    "    t = 1.0/(1.0 + np.exp(-1.0 * z))       #Sigmoid function\n",
    "    return t\n",
    "\n",
    "def sigmoidGradient(z):\n",
    "    p = sigmoid(z)\n",
    "    q = 1 - p\n",
    "    return np.multiply(p,q)                #returns the derivative of sigmoid value for any z. np.multiply() returns elementwise multiplication of 2 matrices\n",
    "\n",
    "def ForwardProp(a1,Theta_1,Theta_2):\n",
    "    a1 = [[1],[a1[0]],[a1[1]]]             # bias value added to features and converted to 3x1 matrix\n",
    "    z2 = np.matmul(Theta_1,a1)             #np.matmul() returns matrix multiplication\n",
    "    a2 = sigmoid(z2)                       #Activation values for layer 2\n",
    "    a2 = [[1],[a2[0]],a2[1]]               #Bias value added to layer 2 actvation values and converted to 3x1 matrix\n",
    "    z3 = np.matmul(Theta_2,a2)\n",
    "    h = sigmoid(z3)                        #Activation value for layer 3\n",
    "    h = [h[0]]                             #Just converting to matrix of size 1x1\n",
    "    return h,z3,a2,a1\n",
    "\n",
    "def costfunction_NN(X,Y,Theta_1,Theta_2):\n",
    "    H = []\n",
    "    for i in range(len(X)):\n",
    "        h,z3,a2,a1 = ForwardProp(X[i],Theta_1,Theta_2) #z3,a2,a1 are useless here.They are included to maintain the pattern\n",
    "        H = H + h      #Forming output matrix\n",
    "    Y = [[Y[0]],[Y[1]],[Y[2]],[Y[3]]]     #Actual output matrix in 4x1 matrix\n",
    "    J = 0.0                               #cost initialised to zero\n",
    "    #Now calculate cost\n",
    "    #np.transpose() returns transpose of matrix\n",
    "    #np.log() retuns elementwise logarithm of matrix\n",
    "    #np.ones() returns matrix with all ones in required shape\n",
    "    J = (-1.0/4)*(np.matmul(np.transpose(Y),np.log(H)) + np.matmul(np.transpose(np.ones((4,1),dtype = float)-Y),np.log(np.ones((4,1),dtype = float)-H)))\n",
    "    return J\n",
    "\n",
    "def Train_NN(X,Y,Theta_1,Theta_2):\n",
    "    Theta1_grad = np.zeros(np.shape(Theta_1))     #Defining initial gradient matrices for Theta_1 and Theta_2\n",
    "    Theta2_grad = np.zeros(np.shape(Theta_2))\n",
    "    for x in range(epochs):                       #for each iteration\n",
    "        for i in range(len(X)):                   #len(X) = size of dataset o number of training examples\n",
    "            h,z3,a2,a1 = ForwardProp(X[i],Theta_1,Theta_2)  #Forward Propogation for eacg training example\n",
    "            # h is output value\n",
    "            #a1,a2 are activation values for layer1 and layer 2 respectively.\n",
    "            #z3 is basically matrix product of Theta_2 and a2.\n",
    "            \"\"\"Backward Propogation\"\"\"\n",
    "            delta_3 = h[0] - Y[i]                     #Error in layer 3\n",
    "            delta_3 = [[delta_3[0]]]                  #Just converting to 1x1 matrix\n",
    "            delta_2 = np.multiply(np.matmul(np.transpose(Theta_2),delta_3),sigmoidGradient(z3)) #Error in layer 2\n",
    "            delta_2 = [delta_2[1],delta_2[2]]     #just converted delta_2 to 2x1 matrix\n",
    "\n",
    "            #No delta_1 defined because it is feature matrix which is errorless\n",
    "\n",
    "            Theta2_grad = np.divide(Theta2_grad + np.matmul(delta_3,np.transpose(a2)),4)    #finding gradient values for Theta_1 and Theta_2\n",
    "            #np.divide() divides each element of matrix with a certain number .\n",
    "            Theta1_grad = np.divide(Theta1_grad + np.matmul(delta_2,np.transpose(a1)),4)\n",
    "\n",
    "        Theta_1 = Theta_1 - ((learning_rate)*(Theta1_grad))     #Updating Theta_1\n",
    "        Theta_2 = Theta_2 - ((learning_rate)*(Theta2_grad))     #Updating Theta_2\n",
    "        cost = costfunction_NN(X,Y,Theta_1,Theta_2)             #Calculating cost\n",
    "        plt.scatter(x,cost,marker = 'x',color = 'r')            #Plotting graph of cost vs number of iterations\n",
    "        #cost should always decrease with each iteration.\n",
    "    plt.xlabel('No. of iterations')\n",
    "    plt.ylabel('Cost')\n",
    "    plt.show()\n",
    "    return Theta_1,Theta_2"
   ]
  },
  {
   "cell_type": "code",
   "execution_count": 2,
   "metadata": {},
   "outputs": [
    {
     "data": {
      "image/png": "[encoded data removed]",
      "text/plain": [
       "<matplotlib.figure.Figure at 0x7f320412e208>"
      ]
     },
     "metadata": {},
     "output_type": "display_data"
    },
    {
     "data": {
      "image/png": "[encoded data removed]",
      "text/plain": [
       "<matplotlib.figure.Figure at 0x7f31e888b5f8>"
      ]
     },
     "metadata": {},
     "output_type": "display_data"
    }
   ],
   "source": [
    "X = []\n",
    "Y = []\n",
    "with open(\"XOR.csv\",\"r\") as csvfile:      #importing data from csv file\n",
    "    lines = csv.reader(csvfile)\n",
    "    dataset = list(lines)\n",
    "    for i in range(len(dataset)):\n",
    "        X.append([int(dataset[i][0]),int(dataset[i][1])])      #Feature matrix formation\n",
    "        Y.append(int(dataset[i][2]))                           #Output matrix formation\n",
    "displayData(X,Y)                                               #Displaying the data\n",
    "Theta_1,Theta_2 = Randomise()                                  #Randomising Theta_1,Theta_2\n",
    "Theta_1,Theta_2 = Train_NN(X,Y,Theta_1,Theta_2)                 #Training Neural Network"
   ]
  },
  {
   "cell_type": "code",
   "execution_count": null,
   "metadata": {},
   "outputs": [],
   "source": []
  }
 ],
 "metadata": {
  "kernelspec": {
   "display_name": "Python 3",
   "language": "python",
   "name": "python3"
  },
  "language_info": {
   "codemirror_mode": {
    "name": "ipython",
    "version": 3
   },
   "file_extension": ".py",
   "mimetype": "text/x-python",
   "name": "python",
   "nbconvert_exporter": "python",
   "pygments_lexer": "ipython3",
   "version": "3.6.4"
  }
 },
 "nbformat": 4,
 "nbformat_minor": 2
}
